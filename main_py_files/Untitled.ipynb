{
 "cells": [
  {
   "cell_type": "code",
   "execution_count": 1,
   "id": "dd5250bf",
   "metadata": {},
   "outputs": [],
   "source": [
    "from configparser import ConfigParser"
   ]
  },
  {
   "cell_type": "code",
   "execution_count": 2,
   "id": "30ce5d93",
   "metadata": {},
   "outputs": [],
   "source": [
    "config = ConfigParser()"
   ]
  },
  {
   "cell_type": "code",
   "execution_count": 3,
   "id": "f307ae83",
   "metadata": {},
   "outputs": [
    {
     "data": {
      "text/plain": [
       "['config_absolute_efficiency.ini']"
      ]
     },
     "execution_count": 3,
     "metadata": {},
     "output_type": "execute_result"
    }
   ],
   "source": [
    "config.read(\"config_absolute_efficiency.ini\")"
   ]
  },
  {
   "cell_type": "code",
   "execution_count": 7,
   "id": "998e49ee",
   "metadata": {},
   "outputs": [
    {
     "data": {
      "text/plain": [
       "str"
      ]
     },
     "execution_count": 7,
     "metadata": {},
     "output_type": "execute_result"
    }
   ],
   "source": [
    "type(config[\"InferenceConfig\"]['saved_model'])"
   ]
  },
  {
   "cell_type": "code",
   "execution_count": 46,
   "id": "52127ee8",
   "metadata": {},
   "outputs": [
    {
     "data": {
      "text/plain": [
       "True"
      ]
     },
     "execution_count": 46,
     "metadata": {},
     "output_type": "execute_result"
    }
   ],
   "source": [
    "bool(config[\"InferenceConfig\"]['data_invivo'])"
   ]
  },
  {
   "cell_type": "code",
   "execution_count": 44,
   "id": "63d59c01",
   "metadata": {},
   "outputs": [
    {
     "data": {
      "text/plain": [
       "\"'ABE8e-NG'\""
      ]
     },
     "execution_count": 44,
     "metadata": {},
     "output_type": "execute_result"
    }
   ],
   "source": [
    "a['saved_model']"
   ]
  },
  {
   "cell_type": "code",
   "execution_count": 13,
   "id": "e19ed2dd",
   "metadata": {},
   "outputs": [],
   "source": [
    "s = 'amina'\n",
    "n = len(s)\n",
    "    \n",
    "# Initialize dp array\n",
    "dp = [[False] * n for _ in range(n)]\n",
    "\n",
    "# All substrings of length 1 are palindromes\n",
    "for i in range(n):\n",
    "    dp[i][i] = True\n",
    "\n",
    "maxLen, start = 1, 0\n",
    "\n",
    "\n",
    "# Check substrings of length 2 to n\n",
    "for length in range(2, n + 1):\n",
    "    for i in range(n - length + 1):\n",
    "        j = i + length - 1\n",
    "\n",
    "        if length == 2 and s[i] == s[j]:\n",
    "            dp[i][j] = True\n",
    "        elif s[i] == s[j] and dp[i+1][j-1]:\n",
    "            dp[i][j] = True\n",
    "\n",
    "        if dp[i][j] and length > maxLen:\n",
    "            maxLen = length\n",
    "            start = i\n"
   ]
  },
  {
   "cell_type": "code",
   "execution_count": 15,
   "id": "506307b5",
   "metadata": {},
   "outputs": [
    {
     "data": {
      "text/plain": [
       "[[True, False, False, False, False],\n",
       " [False, True, False, False, False],\n",
       " [False, False, True, False, False],\n",
       " [False, False, False, True, False],\n",
       " [False, False, False, False, True]]"
      ]
     },
     "execution_count": 15,
     "metadata": {},
     "output_type": "execute_result"
    }
   ],
   "source": [
    "dp"
   ]
  },
  {
   "cell_type": "code",
   "execution_count": 6,
   "id": "1fd9189e",
   "metadata": {},
   "outputs": [
    {
     "data": {
      "text/plain": [
       "[[False, False, False], [False, False, False], [False, False, False]]"
      ]
     },
     "execution_count": 6,
     "metadata": {},
     "output_type": "execute_result"
    }
   ],
   "source": [
    "dp"
   ]
  },
  {
   "cell_type": "code",
   "execution_count": 10,
   "id": "97c2c695",
   "metadata": {},
   "outputs": [
    {
     "name": "stdout",
     "output_type": "stream",
     "text": [
      "3\n",
      "[False, False, False]\n",
      "3\n",
      "[False, False, False]\n",
      "3\n",
      "[False, False, False]\n"
     ]
    }
   ],
   "source": [
    "for _ in range(n):\n",
    "    print(n)\n",
    "    print([False] * n)\n"
   ]
  },
  {
   "cell_type": "code",
   "execution_count": 11,
   "id": "e7bed6ab",
   "metadata": {},
   "outputs": [
    {
     "data": {
      "text/plain": [
       "[False, False, False, False, False]"
      ]
     },
     "execution_count": 11,
     "metadata": {},
     "output_type": "execute_result"
    }
   ],
   "source": [
    "[False] * 5"
   ]
  },
  {
   "cell_type": "code",
   "execution_count": 12,
   "id": "16cbe432",
   "metadata": {},
   "outputs": [
    {
     "ename": "TypeError",
     "evalue": "unsupported operand type(s) for /: 'list' and 'int'",
     "output_type": "error",
     "traceback": [
      "\u001b[0;31m---------------------------------------------------------------------------\u001b[0m",
      "\u001b[0;31mTypeError\u001b[0m                                 Traceback (most recent call last)",
      "\u001b[0;32m/var/folders/y7/x39w3zs508jdpw3g1_v7k83w0000gp/T/ipykernel_58865/948832124.py\u001b[0m in \u001b[0;36m<module>\u001b[0;34m\u001b[0m\n\u001b[0;32m----> 1\u001b[0;31m \u001b[0;34m[\u001b[0m\u001b[0;32mFalse\u001b[0m\u001b[0;34m]\u001b[0m \u001b[0;34m/\u001b[0m\u001b[0;36m4\u001b[0m\u001b[0;34m\u001b[0m\u001b[0;34m\u001b[0m\u001b[0m\n\u001b[0m",
      "\u001b[0;31mTypeError\u001b[0m: unsupported operand type(s) for /: 'list' and 'int'"
     ]
    }
   ],
   "source": [
    "[False] "
   ]
  },
  {
   "cell_type": "code",
   "execution_count": null,
   "id": "35c3dbfd",
   "metadata": {},
   "outputs": [],
   "source": []
  }
 ],
 "metadata": {
  "kernelspec": {
   "display_name": "Python 3 (ipykernel)",
   "language": "python",
   "name": "python3"
  },
  "language_info": {
   "codemirror_mode": {
    "name": "ipython",
    "version": 3
   },
   "file_extension": ".py",
   "mimetype": "text/x-python",
   "name": "python",
   "nbconvert_exporter": "python",
   "pygments_lexer": "ipython3",
   "version": "3.7.16"
  }
 },
 "nbformat": 4,
 "nbformat_minor": 5
}
