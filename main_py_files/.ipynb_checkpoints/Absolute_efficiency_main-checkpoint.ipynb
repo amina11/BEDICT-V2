{
 "cells": [
  {
   "cell_type": "code",
   "execution_count": 1,
   "id": "72c6be8b",
   "metadata": {
    "is_executing": true,
    "pycharm": {
     "is_executing": true
    }
   },
   "outputs": [],
   "source": [
    "%load_ext autoreload\n",
    "%autoreload 2\n",
    "import os\n",
    "import numpy as np\n",
    "import pandas as pd\n",
    "import torch\n",
    "import argparse"
   ]
  },
  {
   "cell_type": "code",
   "execution_count": 2,
   "id": "f7bffcd9",
   "metadata": {},
   "outputs": [
    {
     "name": "stdout",
     "output_type": "stream",
     "text": [
      "../absolute_efficiency_model\n"
     ]
    }
   ],
   "source": [
    "working_path = '../absolute_efficiency_model'\n",
    "import sys\n",
    "sys.path.append(working_path)\n",
    "print(working_path)\n",
    "from models.data_process import  get_data_ready, get_datatensor_partitions\n",
    "from models.trainval_workflow import run_trainevaltest_workflow\n",
    "from models.hyperparam import build_config_map\n",
    "from src.utils import  compute_eval_results_df, ReaderWriter, one_hot_encode, get_device\n",
    "#import matplotlib.pyplot as plt"
   ]
  },
  {
   "cell_type": "code",
   "execution_count": 3,
   "id": "0d91bd43",
   "metadata": {},
   "outputs": [],
   "source": [
    "cmd_opt = argparse.ArgumentParser(description='Argparser for data')\n",
    "cmd_opt.add_argument('-model_name',  type=str, help = 'name of the model')\n",
    "cmd_opt.add_argument('-exp_name',  type=str, help = 'name of the experiment')\n",
    "cmd_opt.add_argument('-data_name',  type=str,default = '', help = 'name of the data')\n",
    "cmd_opt.add_argument('-data_dir',  type=str,default = './data/', help = 'directory of the data')\n",
    "#cmd_opt.add_argument('-target_dir',  type=str, default='processed',  help = 'folder name to save the processed data')\n",
    "cmd_opt.add_argument('-working_dir',  type=str, default='./', help = 'the main working directory')\n",
    "#cmd_opt.add_argument('-output_path', type=str, help='path to save the trained model')\n",
    "cmd_opt.add_argument('-random_seed', type=int,default=42)\n",
    "cmd_opt.add_argument('-epoch_num', type=int, default =200, help='number of training epochs')\n",
    "args, _ = cmd_opt.parse_known_args()"
   ]
  },
  {
   "cell_type": "code",
   "execution_count": 9,
   "id": "294f124f",
   "metadata": {},
   "outputs": [
    {
     "name": "stdout",
     "output_type": "stream",
     "text": [
      "CNN\n",
      "../dataset\n"
     ]
    }
   ],
   "source": [
    "in_vivo = False\n",
    "screen_name  = ''\n",
    "\n",
    "dsettypes = ['train', 'validation','test']\n",
    "gpu_index = 0\n",
    "res_desc = {}\n",
    "version=2\n",
    "model_name = 'CNN'\n",
    "print(model_name)\n",
    "args.model_name =  model_name # {'RNN','CNN', 'Transformer'}\n",
    "res_desc[model_name] = {}\n",
    "\n",
    "#args.exp_name = 'protospacer_PAM'\n",
    "#model_path = os.path.join(args.wor|king_dir, 'output', f'{model_name}_v{version}',args.exp_name)\n",
    "#print(model_path)\n",
    "\n",
    "args.working_dir = working_path \n",
    "if in_vivo:\n",
    "    absolute_dir=  '../dataset/invivo/' + screen_name\n",
    "#args.data_name = 'ABEmax-NG'\n",
    "else:\n",
    "    absolute_dir=  '../dataset'\n",
    "\n",
    "print(absolute_dir)\n",
    "\n"
   ]
  },
  {
   "cell_type": "code",
   "execution_count": 10,
   "id": "517e7fd5",
   "metadata": {},
   "outputs": [],
   "source": [
    "def get_hyperparam_config(args):\n",
    "    \n",
    "    to_gpu = True\n",
    "    gpu_index=0\n",
    "    optim_tup = None\n",
    "    \n",
    "    if args.model_name == 'CNN':\n",
    "        k = 2\n",
    "        \n",
    "        l2_reg = 0.01\n",
    "        batch_size = 100\n",
    "        num_epochs = 300\n",
    "        model_config_tup = (k, l2_reg, batch_size, num_epochs)\n",
    "        \n",
    "\n",
    "            \n",
    "        mlpembedder_tup = None\n",
    "        if args.exp_name == 'protospacer':\n",
    "            input_dim = 20\n",
    "        if args.exp_name == 'protospacer_PAM':\n",
    "            input_dim = 24\n",
    "            print(input_dim)\n",
    "        if args.exp_name == 'protospacer_PAM_overhangs':\n",
    "            input_dim = 34\n",
    "            \n",
    "        \n",
    "\n",
    "        #loss_func_name = 'MSEloss'\n",
    "        # loss_func_name = 'SmoothL1loss'\n",
    "        perfmetric_name = 'spearman'\n",
    "        loss_func_name = 'klloss'\n",
    "        \n",
    "    \n",
    "    if args.model_name == 'RNN':\n",
    "        embed_dim = 64\n",
    "        hidden_dim = 64\n",
    "        z_dim = 32\n",
    "        num_hidden_layers =2\n",
    "        bidirection = True\n",
    "        p_dropout = 0.1     \n",
    "        rnn_class = torch.nn.GRU\n",
    "        nonlin_func = torch.nn.ReLU\n",
    "        pooling_mode = 'none'\n",
    "        l2_reg = 1e-5\n",
    "        batch_size = 1500\n",
    "        num_epochs = 500\n",
    "\n",
    "        model_config_tup = (embed_dim, hidden_dim, z_dim, num_hidden_layers, bidirection, \n",
    "                   p_dropout, rnn_class, nonlin_func, pooling_mode, l2_reg, batch_size, num_epochs)\n",
    "\n",
    "        # input_dim, embed_dim, mlp_embed_factor, nonlin_func, p_dropout, num_encoder_units\n",
    "        if args.exp_name == 'protospacer_PAM':\n",
    "            mlpembedder_tup = None\n",
    "            input_dim = 24\n",
    "        elif args.exp_name == 'protospacer_PAM_overhangs':\n",
    "            mlpembedder_tup = None\n",
    "            input_dim = 34\n",
    "            \n",
    "        else:\n",
    "            mlpembedder_tup = None\n",
    "            input_dim = 20\n",
    "\n",
    "        loss_func_name = 'SmoothL1loss'\n",
    "        perfmetric_name = 'pearson'\n",
    "        \n",
    "        \n",
    "        \n",
    "    mconfig, options = build_config_map(args.model_name, \n",
    "                                        optim_tup, \n",
    "                                        model_config_tup, \n",
    "                                        mlpembedder_tup, \n",
    "                                        loss_func = loss_func_name)\n",
    "\n",
    "\n",
    "    #print('we are here')\n",
    "    options['input_size'] = input_dim\n",
    "    options['loss_func'] = loss_func_name # to refactor\n",
    "    options['model_name'] = args.model_name\n",
    "    options['perfmetric_name'] = perfmetric_name\n",
    "    return mconfig, options"
   ]
  },
  {
   "cell_type": "code",
   "execution_count": 11,
   "id": "3ab02b73",
   "metadata": {},
   "outputs": [],
   "source": [
    "def main_train(data_name, args):\n",
    "    dsettypes = ['train', 'validation','test']\n",
    "    gpu_index = 0\n",
    "    res_desc = {}\n",
    "    version=2\n",
    "    args.data_name = data_name\n",
    "    for model_name in ['CNN']: #[ 'RNN'  ,'FFN','CNN', 'RNN','Transformer']:\n",
    "        print(model_name)\n",
    "        args.model_name =  model_name # {'RNN','CNN', 'Transformer'}\n",
    "        res_desc[model_name] = {}\n",
    "        for exp_name in ['protospacer_PAM']:#,  'protospacer_PAM_overhangs']:#, 'protospacer_PAM', 'protospacer_PAM_overhangs']:\n",
    "            args.exp_name = exp_name\n",
    "            print(exp_name)\n",
    "            args.data_dir  = absolute_dir + '/' + args.exp_name + '/' + args.data_name + '_proportions_encenc_two_model'\n",
    "            #args.data_dir  = absolute_dir + '/' + args.exp_name + '/' + args.data_name + '_DeepBE'\n",
    "            print(args.data_dir)\n",
    "            if in_vivo:\n",
    "                model_path = os.path.join(args.working_dir, \n",
    "                                      'output', \n",
    "                                      f'{model_name}_v{version}','invivo',screen_name, args.data_name,\n",
    "                                      exp_name)\n",
    "            else:\n",
    "                \n",
    "                 model_path = os.path.join(args.working_dir,\n",
    "                                      'output',\n",
    "                                      f'{model_name}_v{version}', args.data_name,\n",
    "                                      exp_name)\n",
    "               \n",
    "             \n",
    "                #model_path = os.path.join(args.working_dir, 'output',f'{model_name}_v{version}', f'{args.data_name}_DeepBE', exp_name)\n",
    "                \n",
    "                \n",
    "            dpartitions, datatensor_partitions = get_data_ready(args, \n",
    "                                                                normalize_opt='max',\n",
    "                                                                train_size=0.9, \n",
    "                                                                fdtype=torch.float32,\n",
    "                                                                plot_y_distrib=False)\n",
    "            mconfig, options = get_hyperparam_config(args)\n",
    "            print(options['input_size'])\n",
    "            print(options['loss_func'])\n",
    "\n",
    "    #         options['num_epochs'] = 10 # use this if you want to test a whole workflow run for all models using 10 epochs\n",
    "\n",
    "            perfmetric_name = options['perfmetric_name']\n",
    "            train_val_path = os.path.join(model_path, 'train_val')\n",
    "            test_path = os.path.join(model_path, 'test')\n",
    "\n",
    "            print(f'Running model: {model_name}, exp_name: {exp_name}, saved at {train_val_path}')\n",
    "            perfmetric_run_map, score_run_dict = run_trainevaltest_workflow(datatensor_partitions, \n",
    "                                                                            (mconfig, options), \n",
    "                                                                            train_val_path,\n",
    "                                                                            dsettypes,\n",
    "                                                                            perfmetric_name,\n",
    "                                                                            gpu_index, \n",
    "                                                                            to_gpu=True)\n",
    "            print('='*15)\n",
    "            res_desc[model_name][exp_name] = compute_eval_results_df(train_val_path, len(dpartitions))  \n",
    "            "
   ]
  },
  {
   "cell_type": "code",
   "execution_count": 12,
   "id": "7751e0f6",
   "metadata": {
    "scrolled": false
   },
   "outputs": [
    {
     "name": "stdout",
     "output_type": "stream",
     "text": [
      "CNN\n",
      "protospacer_PAM\n",
      "../dataset/protospacer_PAM/ABEmax-SpRY_proportions_encenc_two_model\n",
      "24\n",
      "24\n",
      "klloss\n",
      "Running model: CNN, exp_name: protospacer_PAM, saved at ../absolute_efficiency_model/output/CNN_v2/ABEmax-SpRY/protospacer_PAM/train_val\n",
      "cpu\n",
      "loss function KLDivLoss()\n",
      "validation\n",
      "test\n",
      "number of epochs 300\n",
      "weight_decay 0.01\n",
      "Epoch: 0\n",
      "Regression report on all events:\n",
      "MAE:\n",
      "0.12112107541923771\n",
      "MSE:\n",
      "0.021816191814758103\n",
      "Correlation coefficient:\n",
      "Spearman coefficient:\n",
      "does not exist\n",
      "Pearson coefficient:\n",
      "does not exist\n",
      "------------------------------\n",
      "\n",
      "xxxxxxxxxxxxxxxxxxxxxxxxx\n",
      "we are validation phase\n",
      "Epoch: 0\n",
      "Regression report on all events:\n",
      "MAE:\n",
      "0.09868069606197818\n",
      "MSE:\n",
      "0.013565775349374726\n",
      "Correlation coefficient:\n",
      "Spearman coefficient:\n",
      "does not exist\n",
      "Pearson coefficient:\n",
      "does not exist\n",
      "------------------------------\n",
      "\n",
      "xxxxxxxxxxxxxxxxxxxxxxxxx\n",
      "Epoch: 0\n",
      "Regression report on all events:\n",
      "MAE:\n",
      "0.09888384994894062\n",
      "MSE:\n",
      "0.01365712097219319\n",
      "Correlation coefficient:\n",
      "Spearman coefficient:\n",
      "does not exist\n",
      "Pearson coefficient:\n",
      "does not exist\n",
      "------------------------------\n",
      "\n",
      "xxxxxxxxxxxxxxxxxxxxxxxxx\n"
     ]
    },
    {
     "ename": "TypeError",
     "evalue": "'>' not supported between instances of 'str' and 'float'",
     "output_type": "error",
     "traceback": [
      "\u001b[0;31m---------------------------------------------------------------------------\u001b[0m",
      "\u001b[0;31mTypeError\u001b[0m                                 Traceback (most recent call last)",
      "\u001b[0;32m/var/folders/y7/x39w3zs508jdpw3g1_v7k83w0000gp/T/ipykernel_5523/1824887119.py\u001b[0m in \u001b[0;36m<module>\u001b[0;34m\u001b[0m\n\u001b[0;32m----> 1\u001b[0;31m \u001b[0mmain_train\u001b[0m\u001b[0;34m(\u001b[0m\u001b[0;34m'ABEmax-SpRY'\u001b[0m\u001b[0;34m,\u001b[0m \u001b[0margs\u001b[0m\u001b[0;34m)\u001b[0m\u001b[0;34m\u001b[0m\u001b[0;34m\u001b[0m\u001b[0m\n\u001b[0m",
      "\u001b[0;32m/var/folders/y7/x39w3zs508jdpw3g1_v7k83w0000gp/T/ipykernel_5523/386555790.py\u001b[0m in \u001b[0;36mmain_train\u001b[0;34m(data_name, args)\u001b[0m\n\u001b[1;32m     53\u001b[0m                                                                             \u001b[0mperfmetric_name\u001b[0m\u001b[0;34m,\u001b[0m\u001b[0;34m\u001b[0m\u001b[0;34m\u001b[0m\u001b[0m\n\u001b[1;32m     54\u001b[0m                                                                             \u001b[0mgpu_index\u001b[0m\u001b[0;34m,\u001b[0m\u001b[0;34m\u001b[0m\u001b[0;34m\u001b[0m\u001b[0m\n\u001b[0;32m---> 55\u001b[0;31m                                                                             to_gpu=True)\n\u001b[0m\u001b[1;32m     56\u001b[0m             \u001b[0mprint\u001b[0m\u001b[0;34m(\u001b[0m\u001b[0;34m'='\u001b[0m\u001b[0;34m*\u001b[0m\u001b[0;36m15\u001b[0m\u001b[0;34m)\u001b[0m\u001b[0;34m\u001b[0m\u001b[0;34m\u001b[0m\u001b[0m\n\u001b[1;32m     57\u001b[0m             \u001b[0mres_desc\u001b[0m\u001b[0;34m[\u001b[0m\u001b[0mmodel_name\u001b[0m\u001b[0;34m]\u001b[0m\u001b[0;34m[\u001b[0m\u001b[0mexp_name\u001b[0m\u001b[0;34m]\u001b[0m \u001b[0;34m=\u001b[0m \u001b[0mcompute_eval_results_df\u001b[0m\u001b[0;34m(\u001b[0m\u001b[0mtrain_val_path\u001b[0m\u001b[0;34m,\u001b[0m \u001b[0mlen\u001b[0m\u001b[0;34m(\u001b[0m\u001b[0mdpartitions\u001b[0m\u001b[0;34m)\u001b[0m\u001b[0;34m)\u001b[0m\u001b[0;34m\u001b[0m\u001b[0;34m\u001b[0m\u001b[0m\n",
      "\u001b[0;32m~/repositories/git/BEDICT-V2_new/BEDICT-V2-Web/absolute_efficiency_model/models/trainval_workflow.py\u001b[0m in \u001b[0;36mrun_trainevaltest_workflow\u001b[0;34m(datatensor_partitions, config_map, train_val_dir, dsettypes, perfmetric_name, gpu_indx, to_gpu)\u001b[0m\n\u001b[1;32m    308\u001b[0m \u001b[0;34m\u001b[0m\u001b[0m\n\u001b[1;32m    309\u001b[0m \u001b[0;34m\u001b[0m\u001b[0m\n\u001b[0;32m--> 310\u001b[0;31m             \u001b[0;32mif\u001b[0m \u001b[0mmodelscore_validation\u001b[0m\u001b[0;34m.\u001b[0m\u001b[0mcorrelation\u001b[0m\u001b[0;34m[\u001b[0m\u001b[0mtmetric\u001b[0m\u001b[0;34m]\u001b[0m \u001b[0;34m>\u001b[0m \u001b[0mbest_perfscore\u001b[0m\u001b[0;34m:\u001b[0m \u001b[0;31m# use spearman or pearson as performance metric\u001b[0m\u001b[0;34m\u001b[0m\u001b[0;34m\u001b[0m\u001b[0m\n\u001b[0m\u001b[1;32m    311\u001b[0m                 \u001b[0mbest_perfscore\u001b[0m \u001b[0;34m=\u001b[0m \u001b[0mmodelscore_validation\u001b[0m\u001b[0;34m.\u001b[0m\u001b[0mcorrelation\u001b[0m\u001b[0;34m[\u001b[0m\u001b[0mtmetric\u001b[0m\u001b[0;34m]\u001b[0m\u001b[0;34m\u001b[0m\u001b[0;34m\u001b[0m\u001b[0m\n\u001b[1;32m    312\u001b[0m \u001b[0;34m\u001b[0m\u001b[0m\n",
      "\u001b[0;31mTypeError\u001b[0m: '>' not supported between instances of 'str' and 'float'"
     ]
    }
   ],
   "source": [
    "main_train('ABEmax-SpRY', args)"
   ]
  },
  {
   "cell_type": "code",
   "execution_count": null,
   "id": "46b9b6bf",
   "metadata": {},
   "outputs": [],
   "source": [
    "'''\n",
    "for data_name in ['ABEmax-SpRY','ABEmax-SpCas9', 'ABEmax-NG', 'ABE8e-NG', 'ABE8e-SpRY','ABE8e-SpCas9' ]:\n",
    "    main_train(data_name, args)\n",
    "'''"
   ]
  },
  {
   "cell_type": "code",
   "execution_count": null,
   "id": "f3214293",
   "metadata": {},
   "outputs": [],
   "source": [
    "dpartitions"
   ]
  },
  {
   "cell_type": "code",
   "execution_count": null,
   "id": "b14fd0f1",
   "metadata": {},
   "outputs": [],
   "source": [
    "num_epochs"
   ]
  },
  {
   "cell_type": "code",
   "execution_count": null,
   "id": "b53bbe9e",
   "metadata": {},
   "outputs": [],
   "source": []
  },
  {
   "cell_type": "code",
   "execution_count": null,
   "id": "ac5ece7b",
   "metadata": {},
   "outputs": [],
   "source": []
  },
  {
   "cell_type": "code",
   "execution_count": null,
   "id": "dee945a9",
   "metadata": {},
   "outputs": [],
   "source": []
  }
 ],
 "metadata": {
  "kernelspec": {
   "display_name": "Python 3 (ipykernel)",
   "language": "python",
   "name": "python3"
  },
  "language_info": {
   "codemirror_mode": {
    "name": "ipython",
    "version": 3
   },
   "file_extension": ".py",
   "mimetype": "text/x-python",
   "name": "python",
   "nbconvert_exporter": "python",
   "pygments_lexer": "ipython3",
   "version": "3.7.16"
  }
 },
 "nbformat": 4,
 "nbformat_minor": 5
}
